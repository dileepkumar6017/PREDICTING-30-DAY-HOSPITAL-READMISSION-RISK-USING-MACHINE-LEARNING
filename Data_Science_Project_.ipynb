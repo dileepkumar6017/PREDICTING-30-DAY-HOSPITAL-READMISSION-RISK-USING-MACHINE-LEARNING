{
  "cells": [
    {
      "cell_type": "markdown",
      "metadata": {
        "id": "view-in-github",
        "colab_type": "text"
      },
      "source": [
        "<a href=\"https://colab.research.google.com/github/dileepkumar6017/PREDICTING-30-DAY-HOSPITAL-READMISSION-RISK-USING-MACHINE-LEARNING/blob/main/Data_Science_Project_.ipynb\" target=\"_parent\"><img src=\"https://colab.research.google.com/assets/colab-badge.svg\" alt=\"Open In Colab\"/></a>"
      ]
    },
    {
      "cell_type": "code",
      "execution_count": null,
      "id": "eaf13985-8b08-4fd8-9526-97ebd5211957",
      "metadata": {
        "id": "eaf13985-8b08-4fd8-9526-97ebd5211957"
      },
      "outputs": [],
      "source": [
        "import pandas as pd\n",
        "import numpy as np\n",
        "import matplotlib.pyplot as plt\n",
        "import seaborn as sns\n",
        "from sklearn.model_selection import train_test_split, StratifiedKFold, cross_val_score, GridSearchCV\n",
        "from sklearn.preprocessing import StandardScaler\n",
        "from sklearn.metrics import accuracy_score, precision_score, recall_score, f1_score, roc_auc_score, confusion_matrix, precision_recall_curve, roc_curve\n",
        "from sklearn.linear_model import LogisticRegression\n",
        "from sklearn.ensemble import RandomForestClassifier, GradientBoostingClassifier, StackingClassifier\n",
        "from sklearn.svm import LinearSVC\n",
        "from sklearn.neighbors import KNeighborsClassifier\n",
        "from sklearn.feature_selection import SelectKBest, f_classif\n",
        "from imblearn.over_sampling import SMOTE, ADASYN\n",
        "from sklearn.impute import KNNImputer\n",
        "from sklearn.calibration import CalibratedClassifierCV"
      ]
    },
    {
      "cell_type": "code",
      "execution_count": null,
      "id": "d8d6f00d-a872-4657-810a-3ff5029a9c2b",
      "metadata": {
        "id": "d8d6f00d-a872-4657-810a-3ff5029a9c2b"
      },
      "outputs": [],
      "source": [
        "# Load dataset\n",
        "file_path = 'readmission.csv'\n",
        "df = pd.read_csv(file_path)"
      ]
    },
    {
      "cell_type": "code",
      "execution_count": null,
      "id": "80f036fb-7043-40a7-b132-d5f365fa7d1a",
      "metadata": {
        "id": "80f036fb-7043-40a7-b132-d5f365fa7d1a",
        "outputId": "97769ba8-c95f-4c59-fef2-2188c8095e70"
      },
      "outputs": [
        {
          "name": "stdout",
          "output_type": "stream",
          "text": [
            "First 5 rows of the dataset:\n",
            "   encounter_id  patient_nbr             race  gender      age weight  \\\n",
            "0       2278392      8222157        Caucasian  Female   [0-10)      ?   \n",
            "1        149190     55629189        Caucasian  Female  [10-20)      ?   \n",
            "2         64410     86047875  AfricanAmerican  Female  [20-30)      ?   \n",
            "3        500364     82442376        Caucasian    Male  [30-40)      ?   \n",
            "4         16680     42519267        Caucasian    Male  [40-50)      ?   \n",
            "\n",
            "   admission_type_id  discharge_disposition_id  admission_source_id  \\\n",
            "0                  6                        25                    1   \n",
            "1                  1                         1                    7   \n",
            "2                  1                         1                    7   \n",
            "3                  1                         1                    7   \n",
            "4                  1                         1                    7   \n",
            "\n",
            "   time_in_hospital  ... citoglipton insulin  glyburide-metformin  \\\n",
            "0                 1  ...          No      No                   No   \n",
            "1                 3  ...          No      Up                   No   \n",
            "2                 2  ...          No      No                   No   \n",
            "3                 2  ...          No      Up                   No   \n",
            "4                 1  ...          No  Steady                   No   \n",
            "\n",
            "   glipizide-metformin  glimepiride-pioglitazone  metformin-rosiglitazone  \\\n",
            "0                   No                        No                       No   \n",
            "1                   No                        No                       No   \n",
            "2                   No                        No                       No   \n",
            "3                   No                        No                       No   \n",
            "4                   No                        No                       No   \n",
            "\n",
            "   metformin-pioglitazone  change diabetesMed readmitted  \n",
            "0                      No      No          No         NO  \n",
            "1                      No      Ch         Yes        >30  \n",
            "2                      No      No         Yes         NO  \n",
            "3                      No      Ch         Yes         NO  \n",
            "4                      No      Ch         Yes         NO  \n",
            "\n",
            "[5 rows x 50 columns]\n",
            "\n",
            "Shape of the dataset (rows, columns): (101766, 50)\n",
            "\n",
            "Data types of each column:\n",
            "encounter_id                 int64\n",
            "patient_nbr                  int64\n",
            "race                        object\n",
            "gender                      object\n",
            "age                         object\n",
            "weight                      object\n",
            "admission_type_id            int64\n",
            "discharge_disposition_id     int64\n",
            "admission_source_id          int64\n",
            "time_in_hospital             int64\n",
            "payer_code                  object\n",
            "medical_specialty           object\n",
            "num_lab_procedures           int64\n",
            "num_procedures               int64\n",
            "num_medications              int64\n",
            "number_outpatient            int64\n",
            "number_emergency             int64\n",
            "number_inpatient             int64\n",
            "diag_1                      object\n",
            "diag_2                      object\n",
            "diag_3                      object\n",
            "number_diagnoses             int64\n",
            "max_glu_serum               object\n",
            "A1Cresult                   object\n",
            "metformin                   object\n",
            "repaglinide                 object\n",
            "nateglinide                 object\n",
            "chlorpropamide              object\n",
            "glimepiride                 object\n",
            "acetohexamide               object\n",
            "glipizide                   object\n",
            "glyburide                   object\n",
            "tolbutamide                 object\n",
            "pioglitazone                object\n",
            "rosiglitazone               object\n",
            "acarbose                    object\n",
            "miglitol                    object\n",
            "troglitazone                object\n",
            "tolazamide                  object\n",
            "examide                     object\n",
            "citoglipton                 object\n",
            "insulin                     object\n",
            "glyburide-metformin         object\n",
            "glipizide-metformin         object\n",
            "glimepiride-pioglitazone    object\n",
            "metformin-rosiglitazone     object\n",
            "metformin-pioglitazone      object\n",
            "change                      object\n",
            "diabetesMed                 object\n",
            "readmitted                  object\n",
            "dtype: object\n",
            "\n",
            "Number of missing values in each column:\n",
            "encounter_id                    0\n",
            "patient_nbr                     0\n",
            "race                            0\n",
            "gender                          0\n",
            "age                             0\n",
            "weight                          0\n",
            "admission_type_id               0\n",
            "discharge_disposition_id        0\n",
            "admission_source_id             0\n",
            "time_in_hospital                0\n",
            "payer_code                      0\n",
            "medical_specialty               0\n",
            "num_lab_procedures              0\n",
            "num_procedures                  0\n",
            "num_medications                 0\n",
            "number_outpatient               0\n",
            "number_emergency                0\n",
            "number_inpatient                0\n",
            "diag_1                          0\n",
            "diag_2                          0\n",
            "diag_3                          0\n",
            "number_diagnoses                0\n",
            "max_glu_serum               96420\n",
            "A1Cresult                   84748\n",
            "metformin                       0\n",
            "repaglinide                     0\n",
            "nateglinide                     0\n",
            "chlorpropamide                  0\n",
            "glimepiride                     0\n",
            "acetohexamide                   0\n",
            "glipizide                       0\n",
            "glyburide                       0\n",
            "tolbutamide                     0\n",
            "pioglitazone                    0\n",
            "rosiglitazone                   0\n",
            "acarbose                        0\n",
            "miglitol                        0\n",
            "troglitazone                    0\n",
            "tolazamide                      0\n",
            "examide                         0\n",
            "citoglipton                     0\n",
            "insulin                         0\n",
            "glyburide-metformin             0\n",
            "glipizide-metformin             0\n",
            "glimepiride-pioglitazone        0\n",
            "metformin-rosiglitazone         0\n",
            "metformin-pioglitazone          0\n",
            "change                          0\n",
            "diabetesMed                     0\n",
            "readmitted                      0\n",
            "dtype: int64\n",
            "\n",
            "Count of '?' values in each column:\n",
            "encounter_id                    0\n",
            "patient_nbr                     0\n",
            "race                         2273\n",
            "gender                          0\n",
            "age                             0\n",
            "weight                      98569\n",
            "admission_type_id               0\n",
            "discharge_disposition_id        0\n",
            "admission_source_id             0\n",
            "time_in_hospital                0\n",
            "payer_code                  40256\n",
            "medical_specialty           49949\n",
            "num_lab_procedures              0\n",
            "num_procedures                  0\n",
            "num_medications                 0\n",
            "number_outpatient               0\n",
            "number_emergency                0\n",
            "number_inpatient                0\n",
            "diag_1                         21\n",
            "diag_2                        358\n",
            "diag_3                       1423\n",
            "number_diagnoses                0\n",
            "max_glu_serum                   0\n",
            "A1Cresult                       0\n",
            "metformin                       0\n",
            "repaglinide                     0\n",
            "nateglinide                     0\n",
            "chlorpropamide                  0\n",
            "glimepiride                     0\n",
            "acetohexamide                   0\n",
            "glipizide                       0\n",
            "glyburide                       0\n",
            "tolbutamide                     0\n",
            "pioglitazone                    0\n",
            "rosiglitazone                   0\n",
            "acarbose                        0\n",
            "miglitol                        0\n",
            "troglitazone                    0\n",
            "tolazamide                      0\n",
            "examide                         0\n",
            "citoglipton                     0\n",
            "insulin                         0\n",
            "glyburide-metformin             0\n",
            "glipizide-metformin             0\n",
            "glimepiride-pioglitazone        0\n",
            "metformin-rosiglitazone         0\n",
            "metformin-pioglitazone          0\n",
            "change                          0\n",
            "diabetesMed                     0\n",
            "readmitted                      0\n",
            "dtype: int64\n",
            "\n",
            "Pre-imputation distributions:\n",
            "             race  diag_1  diag_2  diag_3\n",
            "count       99493  101745  101408  100343\n",
            "unique          5     716     748     789\n",
            "top     Caucasian     428     276     250\n",
            "freq        76099    6862    6752   11555\n",
            "\n",
            "Post-imputation distributions:\n",
            "             race  diag_1  diag_2  diag_3\n",
            "count      101766  101766  101766  101766\n",
            "unique          4     715     747     788\n",
            "top     Caucasian     428     276     250\n",
            "freq        76099    6862    6752   11555\n"
          ]
        }
      ],
      "source": [
        "# View dataset info\n",
        "print(\"First 5 rows of the dataset:\")\n",
        "print(df.head())\n",
        "print(\"\\nShape of the dataset (rows, columns):\", df.shape)\n",
        "print(\"\\nData types of each column:\")\n",
        "print(df.dtypes)\n",
        "print(\"\\nNumber of missing values in each column:\")\n",
        "print(df.isnull().sum())\n",
        "print(\"\\nCount of '?' values in each column:\")\n",
        "print((df == '?').sum())\n",
        "\n",
        "# Handle missing values\n",
        "df = df.replace('?', np.nan)\n",
        "\n",
        "# Store original feature distributions for comparison\n",
        "original_dist = df[['race', 'diag_1', 'diag_2', 'diag_3']].describe()\n",
        "\n",
        "# KNN imputation for categorical columns\n",
        "categorical_columns = ['race', 'diag_1', 'diag_2', 'diag_3']\n",
        "df_encoded = pd.get_dummies(df[categorical_columns], drop_first=True)\n",
        "imputer = KNNImputer(n_neighbors=5)\n",
        "df_encoded_imputed = pd.DataFrame(imputer.fit_transform(df_encoded), columns=df_encoded.columns, index=df.index)\n",
        "# Reverse one-hot encoding to original categorical values\n",
        "for col in categorical_columns:\n",
        "    df[col] = df_encoded_imputed.filter(like=col).idxmax(axis=1).str.replace(f'{col}_', '')\n",
        "\n",
        "# Drop columns with excessive missing values\n",
        "columns_to_drop = ['weight', 'payer_code', 'medical_specialty', 'max_glu_serum', 'A1Cresult']\n",
        "df = df.drop(columns=columns_to_drop, axis=1)\n",
        "\n",
        "# Drop rows with remaining missing values\n",
        "df = df.dropna()\n",
        "\n",
        "# Compare feature distributions post-imputation\n",
        "print(\"\\nPre-imputation distributions:\")\n",
        "print(original_dist)\n",
        "print(\"\\nPost-imputation distributions:\")\n",
        "print(df[categorical_columns].describe())"
      ]
    },
    {
      "cell_type": "code",
      "execution_count": null,
      "id": "76a720ed-9a32-4caf-bb09-94a08c12ea46",
      "metadata": {
        "id": "76a720ed-9a32-4caf-bb09-94a08c12ea46"
      },
      "outputs": [],
      "source": [
        "# Drop unnecessary columns\n",
        "df = df.drop(['encounter_id', 'patient_nbr'], axis=1)\n",
        "\n",
        "# Drop duplicates\n",
        "df = df.drop_duplicates()\n",
        "\n",
        "# Relax filtering to increase sample size\n",
        "df = df[df['admission_type_id'].isin([1, 2, 3, 4, 5])]  # Include more admission types\n",
        "df = df[(df['time_in_hospital'] >= 1) & (df['time_in_hospital'] <= 30)]  # Extend to 30 days\n",
        "\n",
        "# Create binary target\n",
        "df['readmit_30'] = df['readmitted'].apply(lambda x: 1 if x == '<30' else 0)\n",
        "df = df.drop('readmitted', axis=1)\n",
        "\n",
        "# One-hot encode categorical columns\n",
        "categorical_columns = ['race', 'gender', 'age', 'admission_type_id', 'discharge_disposition_id',\n",
        "                      'admission_source_id', 'change', 'diabetesMed', 'metformin', 'repaglinide',\n",
        "                      'nateglinide', 'chlorpropamide', 'glimepiride', 'acetohexamide', 'glipizide',\n",
        "                      'glyburide', 'tolbutamide', 'pioglitazone', 'rosiglitazone', 'acarbose',\n",
        "                      'miglitol', 'troglitazone', 'tolazamide', 'examide', 'citoglipton',\n",
        "                      'insulin', 'glyburide-metformin', 'glipizide-metformin',\n",
        "                      'glimepiride-pioglitazone', 'metformin-rosiglitazone', 'metformin-pioglitazone']\n",
        "df = pd.get_dummies(df, columns=categorical_columns, drop_first=True)\n",
        "\n",
        "# Feature engineering\n",
        "df['total_visits'] = df['number_outpatient'] + df['number_emergency'] + df['number_inpatient']\n",
        "df['comorbidity_count'] = df[['diag_1', 'diag_2', 'diag_3']].notnull().sum(axis=1)\n",
        "df = df.drop(['diag_1', 'diag_2', 'diag_3'], axis=1)"
      ]
    },
    {
      "cell_type": "code",
      "execution_count": null,
      "id": "0d28e9eb-2b8d-4dc2-9b83-e79a25408af4",
      "metadata": {
        "id": "0d28e9eb-2b8d-4dc2-9b83-e79a25408af4",
        "outputId": "89cfc4e6-2b87-469d-9824-6137495d6586"
      },
      "outputs": [
        {
          "data": {
            "image/png": "[encoded data removed]",
            "text/plain": [
              "<Figure size 600x400 with 1 Axes>"
            ]
          },
          "metadata": {},
          "output_type": "display_data"
        }
      ],
      "source": [
        "# Class Distribution of the Target Variable\n",
        "readmit_counts = df['readmit_30'].value_counts().reset_index()\n",
        "readmit_counts.columns = ['readmit_30', 'count']\n",
        "readmit_counts['readmit_30'] = readmit_counts['readmit_30'].map({0: 'Not Readmitted <30', 1: 'Readmitted <30'})\n",
        "\n",
        "# Bar plot\n",
        "plt.figure(figsize=(6, 4))\n",
        "sns.barplot(data=readmit_counts, x='readmit_30', y='count', hue='readmit_30', palette='Set2', legend=False)\n",
        "plt.ylabel('Number of Patients')\n",
        "plt.title('Target Class Distribution')\n",
        "plt.tight_layout()\n",
        "plt.show()"
      ]
    },
    {
      "cell_type": "code",
      "execution_count": null,
      "id": "36fd70c1-3814-4c6d-808f-6c7cc7e53aa0",
      "metadata": {
        "id": "36fd70c1-3814-4c6d-808f-6c7cc7e53aa0",
        "outputId": "c6430d19-d33a-4edd-b8fe-d81cc1ab9d3b"
      },
      "outputs": [
        {
          "data": {
            "image/png": "[encoded data removed]",
            "text/plain": [
              "<Figure size 700x400 with 1 Axes>"
            ]
          },
          "metadata": {},
          "output_type": "display_data"
        }
      ],
      "source": [
        "# Distribution of Hospital Stay Duration\n",
        "plt.figure(figsize=(7, 4))\n",
        "sns.histplot(df['time_in_hospital'], bins=14, kde=False, color='lightseagreen')\n",
        "plt.title('Distribution of Hospital Stay Duration')\n",
        "plt.xlabel('Days in Hospital')\n",
        "plt.ylabel('Number of Patients')\n",
        "plt.tight_layout()\n",
        "plt.show()"
      ]
    },
    {
      "cell_type": "code",
      "execution_count": null,
      "id": "10b4376c-892c-4f27-9a1a-0c2d17b92b2c",
      "metadata": {
        "id": "10b4376c-892c-4f27-9a1a-0c2d17b92b2c",
        "outputId": "eff14609-7944-43e9-bdfa-8058c635decb"
      },
      "outputs": [
        {
          "data": {
            "image/png": "[encoded data removed]",
            "text/plain": [
              "<Figure size 600x400 with 1 Axes>"
            ]
          },
          "metadata": {},
          "output_type": "display_data"
        }
      ],
      "source": [
        "# Total Visits by Readmission Status\n",
        "plt.figure(figsize=(6, 4))\n",
        "sns.boxplot(x='readmit_30', y='total_visits', data=df, hue='readmit_30', palette='coolwarm', legend=False)\n",
        "plt.xticks([0, 1], ['Not Readmitted <30', 'Readmitted <30'])\n",
        "plt.title('Total Visits by Readmission Status')\n",
        "plt.xlabel('Readmitted')\n",
        "plt.ylabel('Total Visits')\n",
        "plt.tight_layout()\n",
        "plt.show()\n"
      ]
    },
    {
      "cell_type": "code",
      "execution_count": null,
      "id": "ca0eda6f-c4db-4050-89f9-0b53aeb15719",
      "metadata": {
        "id": "ca0eda6f-c4db-4050-89f9-0b53aeb15719",
        "outputId": "8b287528-5e19-431f-d7b1-4b9aa6c7da0e"
      },
      "outputs": [
        {
          "data": {
            "image/png": "[encoded data removed]",
            "text/plain": [
              "<Figure size 800x400 with 1 Axes>"
            ]
          },
          "metadata": {},
          "output_type": "display_data"
        }
      ],
      "source": [
        "# Select numeric columns excluding the target\n",
        "numeric_cols = df.select_dtypes(include=['int64', 'float64']).drop('readmit_30', axis=1)\n",
        "\n",
        "# Drop columns with zero variance\n",
        "numeric_cols = numeric_cols.loc[:, numeric_cols.std() != 0]\n",
        "\n",
        "# Calculate correlation with target\n",
        "correlations = numeric_cols.corrwith(df['readmit_30']).dropna().sort_values(ascending=False)\n",
        "\n",
        "# Plot top 10 correlations\n",
        "plt.figure(figsize=(8, 4))\n",
        "correlations.head(10).plot(kind='bar', color='skyblue')\n",
        "plt.title('Top 10 Feature Correlations with Readmission')\n",
        "plt.ylabel('Correlation')\n",
        "plt.tight_layout()\n",
        "plt.show()"
      ]
    },
    {
      "cell_type": "code",
      "execution_count": null,
      "id": "9c02d8dd-77fb-4aaa-82e4-f16dba71caea",
      "metadata": {
        "id": "9c02d8dd-77fb-4aaa-82e4-f16dba71caea",
        "outputId": "04c36695-f8e5-4035-9d47-4472bda4b3de"
      },
      "outputs": [
        {
          "name": "stdout",
          "output_type": "stream",
          "text": [
            "Summary Statistics:\n",
            "       time_in_hospital  num_lab_procedures  num_procedures  num_medications  \\\n",
            "count      96134.000000        96134.000000    96134.000000     96134.000000   \n",
            "mean           4.390029           42.588990        1.320906        15.991855   \n",
            "std            2.979636           19.553619        1.697513         8.104007   \n",
            "min            1.000000            1.000000        0.000000         1.000000   \n",
            "25%            2.000000           31.000000        0.000000        10.000000   \n",
            "50%            4.000000           44.000000        1.000000        15.000000   \n",
            "75%            6.000000           56.000000        2.000000        20.000000   \n",
            "max           14.000000          132.000000        6.000000        81.000000   \n",
            "\n",
            "       number_outpatient  number_emergency  number_inpatient  \\\n",
            "count       96134.000000      96134.000000      96134.000000   \n",
            "mean            0.376672          0.202946          0.637204   \n",
            "std             1.282756          0.950156          1.264775   \n",
            "min             0.000000          0.000000          0.000000   \n",
            "25%             0.000000          0.000000          0.000000   \n",
            "50%             0.000000          0.000000          0.000000   \n",
            "75%             0.000000          0.000000          1.000000   \n",
            "max            42.000000         76.000000         21.000000   \n",
            "\n",
            "       number_diagnoses    readmit_30  total_visits  comorbidity_count  \n",
            "count      96134.000000  96134.000000  96134.000000            96134.0  \n",
            "mean           7.465871      0.111761      1.216822                3.0  \n",
            "std            1.926741      0.315073      2.317174                0.0  \n",
            "min            1.000000      0.000000      0.000000                3.0  \n",
            "25%            6.000000      0.000000      0.000000                3.0  \n",
            "50%            8.000000      0.000000      0.000000                3.0  \n",
            "75%            9.000000      0.000000      2.000000                3.0  \n",
            "max           16.000000      1.000000     80.000000                3.0  \n"
          ]
        }
      ],
      "source": [
        "# Summary Statistics of Numerical Features\n",
        "summary_stats = df.describe()\n",
        "print(\"Summary Statistics:\")\n",
        "print(summary_stats)"
      ]
    },
    {
      "cell_type": "code",
      "execution_count": null,
      "id": "408a72de-9549-49fd-a49f-456436654d82",
      "metadata": {
        "id": "408a72de-9549-49fd-a49f-456436654d82"
      },
      "outputs": [],
      "source": [
        "# Separate features and target\n",
        "X = df.drop('readmit_30', axis=1)\n",
        "y = df['readmit_30']\n",
        "\n",
        "# Apply SMOTE and ADASYN for class balancing\n",
        "smote = SMOTE(random_state=42)\n",
        "adasyn = ADASYN(random_state=42)\n",
        "X_smote, y_smote = smote.fit_resample(X, y)\n",
        "X_adasyn, y_adasyn = adasyn.fit_resample(X, y)\n",
        "\n",
        "# Scale numeric features\n",
        "numeric_cols = X_smote.select_dtypes(include=['int64', 'float64']).columns\n",
        "scaler = StandardScaler()\n",
        "X_smote[numeric_cols] = scaler.fit_transform(X_smote[numeric_cols])\n",
        "X_adasyn[numeric_cols] = scaler.fit_transform(X_adasyn[numeric_cols])\n",
        "\n",
        "# Split data (use SMOTE for primary analysis)\n",
        "X_train, X_test, y_train, y_test = train_test_split(X_smote, y_smote, test_size=0.2, random_state=42, stratify=y_smote)"
      ]
    },
    {
      "cell_type": "code",
      "execution_count": null,
      "id": "032ef3fc-4dee-413b-a11f-d9c742ec3099",
      "metadata": {
        "id": "032ef3fc-4dee-413b-a11f-d9c742ec3099",
        "outputId": "2ef64a9d-c3e5-4724-c709-7e2e6c12b5ba"
      },
      "outputs": [
        {
          "name": "stdout",
          "output_type": "stream",
          "text": [
            "\n",
            "Logistic Regression Evaluation:\n",
            "Accuracy: 0.91\n",
            "Precision: 0.97\n",
            "Recall: 0.84\n",
            "F1 Score: 0.90\n",
            "ROC AUC: 0.94\n",
            "Confusion Matrix:\n",
            " [[16631   447]\n",
            " [ 2769 14309]]\n",
            "\n",
            "Random Forest Evaluation:\n",
            "Accuracy: 0.93\n",
            "Precision: 0.98\n",
            "Recall: 0.88\n",
            "F1 Score: 0.93\n",
            "ROC AUC: 0.96\n",
            "Confusion Matrix:\n",
            " [[16720   358]\n",
            " [ 2062 15016]]\n",
            "\n",
            "Gradient Boosting Evaluation:\n",
            "Accuracy: 0.89\n",
            "Precision: 0.96\n",
            "Recall: 0.81\n",
            "F1 Score: 0.88\n",
            "ROC AUC: 0.93\n",
            "Confusion Matrix:\n",
            " [[16494   584]\n",
            " [ 3287 13791]]\n",
            "\n",
            "SVM Evaluation:\n",
            "Accuracy: 0.90\n",
            "Precision: 0.96\n",
            "Recall: 0.84\n",
            "F1 Score: 0.90\n",
            "ROC AUC: 0.94\n",
            "Confusion Matrix:\n",
            " [[16539   539]\n",
            " [ 2722 14356]]\n",
            "\n",
            "KNN Evaluation:\n",
            "Accuracy: 0.88\n",
            "Precision: 0.84\n",
            "Recall: 0.94\n",
            "F1 Score: 0.88\n",
            "ROC AUC: 0.94\n",
            "Confusion Matrix:\n",
            " [[14001  3077]\n",
            " [ 1108 15970]]\n",
            "\n",
            "Stacking Evaluation:\n",
            "Accuracy: 0.93\n",
            "Precision: 0.96\n",
            "Recall: 0.89\n",
            "F1 Score: 0.93\n",
            "ROC AUC: 0.97\n",
            "Confusion Matrix:\n",
            " [[16505   573]\n",
            " [ 1810 15268]]\n"
          ]
        }
      ],
      "source": [
        "# Initialize models with hyperparameter tuning\n",
        "models = {\n",
        "    'Logistic Regression': GridSearchCV(LogisticRegression(max_iter=1000, random_state=42),\n",
        "                                       {'C': [0.1, 1, 10]}, cv=3),\n",
        "    'Random Forest': GridSearchCV(RandomForestClassifier(random_state=42),\n",
        "                                  {'n_estimators': [50, 100], 'max_depth': [None, 10]}, cv=3),\n",
        "    'Gradient Boosting': GridSearchCV(GradientBoostingClassifier(random_state=42),\n",
        "                                     {'n_estimators': [50, 100], 'learning_rate': [0.01, 0.1]}, cv=3),\n",
        "    'SVM': GridSearchCV(CalibratedClassifierCV(LinearSVC(random_state=42, max_iter=5000, dual='auto'), cv=3),\n",
        "                        {'estimator__C': [0.1, 1]}, cv=3),  # Set dual='auto' and increase max_iter\n",
        "    'KNN': GridSearchCV(KNeighborsClassifier(),\n",
        "                        {'n_neighbors': [3, 5, 7]}, cv=3)\n",
        "}\n",
        "\n",
        "# Stacking ensemble\n",
        "estimators = [(name, model) for name, model in models.items()]\n",
        "stacking_model = StackingClassifier(estimators=estimators, final_estimator=LogisticRegression(max_iter=1000, random_state=42))\n",
        "models['Stacking'] = stacking_model\n",
        "\n",
        "# Train and evaluate models\n",
        "results = []\n",
        "for name, model in models.items():\n",
        "    model.fit(X_train, y_train)\n",
        "    y_pred = model.predict(X_test)\n",
        "    y_prob = model.predict_proba(X_test)[:, 1] if hasattr(model, 'predict_proba') else np.zeros_like(y_pred)\n",
        "\n",
        "    result = {\n",
        "        'Model': name,\n",
        "        'Accuracy': accuracy_score(y_test, y_pred),\n",
        "        'Precision': precision_score(y_test, y_pred),\n",
        "        'Recall': recall_score(y_test, y_pred),\n",
        "        'F1 Score': f1_score(y_test, y_pred),\n",
        "        'ROC AUC': roc_auc_score(y_test, y_prob) if y_prob.any() else 0,\n",
        "        'Pred': y_pred,\n",
        "        'Prob': y_prob\n",
        "    }\n",
        "    results.append(result)\n",
        "\n",
        "    print(f\"\\n{name} Evaluation:\")\n",
        "    print(f\"Accuracy: {result['Accuracy']:.2f}\")\n",
        "    print(f\"Precision: {result['Precision']:.2f}\")\n",
        "    print(f\"Recall: {result['Recall']:.2f}\")\n",
        "    print(f\"F1 Score: {result['F1 Score']:.2f}\")\n",
        "    print(f\"ROC AUC: {result['ROC AUC']:.2f}\")\n",
        "    print(\"Confusion Matrix:\\n\", confusion_matrix(y_test, y_pred))"
      ]
    },
    {
      "cell_type": "code",
      "execution_count": null,
      "id": "4e0763c2-bd6d-4b8c-8e7b-c8b770a02980",
      "metadata": {
        "id": "4e0763c2-bd6d-4b8c-8e7b-c8b770a02980",
        "outputId": "5d71bc3c-a3d8-469f-a3f7-d05c7cabb1b3"
      },
      "outputs": [
        {
          "name": "stdout",
          "output_type": "stream",
          "text": [
            "Logistic Regression Mean F1 Score (CV): 0.90\n",
            "Random Forest Mean F1 Score (CV): 0.93\n",
            "Gradient Boosting Mean F1 Score (CV): 0.88\n",
            "SVM Mean F1 Score (CV): 0.89\n",
            "KNN Mean F1 Score (CV): 0.88\n"
          ]
        }
      ],
      "source": [
        "# Cross-validation\n",
        "skf = StratifiedKFold(n_splits=5, shuffle=True, random_state=42)\n",
        "cv_results = []\n",
        "for name, model in models.items():\n",
        "    cv_scores = cross_val_score(model, X_smote, y_smote, cv=skf, scoring='f1')\n",
        "    cv_results.append({'Model': name, 'Mean F1': cv_scores.mean()})\n",
        "    print(f\"{name} Mean F1 Score (CV): {cv_scores.mean():.2f}\")"
      ]
    },
    {
      "cell_type": "code",
      "execution_count": null,
      "id": "4ed7d14b-10dd-42b1-9d81-aa16358270fe",
      "metadata": {
        "id": "4ed7d14b-10dd-42b1-9d81-aa16358270fe"
      },
      "outputs": [],
      "source": [
        "# Plot confusion matrices\n",
        "fig, axes = plt.subplots(2, 3, figsize=(15, 10))\n",
        "axes = axes.ravel()\n",
        "for i, (name, result) in enumerate(zip(models.keys(), results)):\n",
        "    cm = confusion_matrix(y_test, result['Pred'])\n",
        "    sns.heatmap(cm, annot=True, fmt='d', cmap='YlGnBu', ax=axes[i],\n",
        "                xticklabels=['No Readmit', 'Readmit'], yticklabels=['No Readmit', 'Readmit'])\n",
        "    axes[i].set_title(f'Confusion Matrix - {name}')\n",
        "    axes[i].set_xlabel('Predicted')\n",
        "    axes[i].set_ylabel('True')\n",
        "plt.tight_layout()\n",
        "plt.show()"
      ]
    },
    {
      "cell_type": "code",
      "execution_count": null,
      "id": "0d415fd7-17ee-4f91-9eff-fabc9d651fcb",
      "metadata": {
        "id": "0d415fd7-17ee-4f91-9eff-fabc9d651fcb"
      },
      "outputs": [],
      "source": [
        "# Plot ROC AUC curves\n",
        "plt.figure(figsize=(8, 6))\n",
        "for result in results:\n",
        "    if result['ROC AUC'] > 0:\n",
        "        fpr, tpr, _ = roc_curve(y_test, result['Prob'])\n",
        "        plt.plot(fpr, tpr, label=f\"{result['Model']} (AUC = {result['ROC AUC']:.2f})\")\n",
        "plt.plot([0, 1], [0, 1], 'k--', label='No Skill')\n",
        "plt.xlabel('False Positive Rate')\n",
        "plt.ylabel('True Positive Rate')\n",
        "plt.title('ROC AUC Curve')\n",
        "plt.legend()\n",
        "plt.tight_layout()\n",
        "plt.show()"
      ]
    },
    {
      "cell_type": "code",
      "execution_count": null,
      "id": "4769e12d-9c9d-4e37-8081-03f25fa342cb",
      "metadata": {
        "id": "4769e12d-9c9d-4e37-8081-03f25fa342cb"
      },
      "outputs": [],
      "source": [
        "# Plot precision-recall curves with baseline and thresholds\n",
        "plt.figure(figsize=(8, 6))\n",
        "no_skill = len(y_test[y_test == 1]) / len(y_test)\n",
        "plt.axhline(y=no_skill, color='k', linestyle='--', label='No Skill')\n",
        "for name, model in models.items():\n",
        "    if hasattr(model, 'predict_proba'):\n",
        "        y_prob = model.predict_proba(X_test)[:, 1]\n",
        "        precision, recall, thresholds = precision_recall_curve(y_test, y_prob)\n",
        "        plt.plot(recall, precision, label=f'{name}')\n",
        "        for i in range(0, len(thresholds), len(thresholds)//5):\n",
        "            plt.text(recall[i], precision[i], f'{thresholds[i]:.2f}', fontsize=8)\n",
        "plt.xlabel('Recall')\n",
        "plt.ylabel('Precision')\n",
        "plt.title('Precision-Recall Curve with Thresholds')\n",
        "plt.legend()\n",
        "plt.tight_layout()\n",
        "plt.show()"
      ]
    },
    {
      "cell_type": "code",
      "execution_count": null,
      "id": "35c45fde-3441-41e9-82da-5ab59375ad41",
      "metadata": {
        "id": "35c45fde-3441-41e9-82da-5ab59375ad41"
      },
      "outputs": [],
      "source": [
        "# Plot metrics comparison\n",
        "metrics_df = pd.DataFrame(results)\n",
        "metrics_df_melted = metrics_df.melt(id_vars='Model', var_name='Metric', value_name='Score')\n",
        "plt.figure(figsize=(12, 6))\n",
        "sns.barplot(data=metrics_df_melted, x='Metric', y='Score', hue='Model')\n",
        "plt.title('Evaluation Metrics Comparison')\n",
        "plt.ylim(0, 1)\n",
        "plt.tight_layout()\n",
        "plt.show()"
      ]
    },
    {
      "cell_type": "code",
      "execution_count": null,
      "id": "462be748-b2c6-4dd9-a5e6-e997ec93909b",
      "metadata": {
        "id": "462be748-b2c6-4dd9-a5e6-e997ec93909b"
      },
      "outputs": [],
      "source": [
        "# Plot feature importance for Random Forest and Gradient Boosting\n",
        "for name in ['Random Forest', 'Gradient Boosting']:\n",
        "    model = models[name].best_estimator_ if name != 'Stacking' else models[name]\n",
        "    if hasattr(model, 'feature_importances_'):\n",
        "        importances = model.feature_importances_\n",
        "        features = X_train.columns\n",
        "        importance_df = pd.DataFrame({'Feature': features, 'Importance': importances})\n",
        "        importance_df = importance_df.sort_values(by='Importance', ascending=False).head(15)\n",
        "\n",
        "        plt.figure(figsize=(10, 6))\n",
        "        bars = plt.barh(importance_df['Feature'], importance_df['Importance'], color='skyblue')\n",
        "        plt.xlabel('Feature Importance')\n",
        "        plt.title(f'Top 15 Feature Importances - {name}')\n",
        "        plt.gca().invert_yaxis()\n",
        "        for bar in bars:\n",
        "            width = bar.get_width()\n",
        "            plt.text(width + 0.001, bar.get_y() + bar.get_height()/2, f'{width:.3f}', va='center')\n",
        "        plt.tight_layout()\n",
        "        plt.show()"
      ]
    }
  ],
  "metadata": {
    "kernelspec": {
      "display_name": "Python 3 (ipykernel)",
      "language": "python",
      "name": "python3"
    },
    "language_info": {
      "codemirror_mode": {
        "name": "ipython",
        "version": 3
      },
      "file_extension": ".py",
      "mimetype": "text/x-python",
      "name": "python",
      "nbconvert_exporter": "python",
      "pygments_lexer": "ipython3",
      "version": "3.12.4"
    },
    "colab": {
      "provenance": [],
      "include_colab_link": true
    }
  },
  "nbformat": 4,
  "nbformat_minor": 5
}